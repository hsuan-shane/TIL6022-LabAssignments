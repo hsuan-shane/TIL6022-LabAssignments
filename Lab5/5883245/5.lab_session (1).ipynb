{
 "cells": [
  {
   "cell_type": "markdown",
   "id": "95068381",
   "metadata": {},
   "source": [
    "<h1>1. String methods</h1>"
   ]
  },
  {
   "cell_type": "markdown",
   "id": "83e64de9",
   "metadata": {},
   "source": [
    "Like any programming language, Python allows many operations on strings. Finding sub-strings, splitting, joining, etc. You can find a list of the available methods [here](https://docs.python.org/3/library/stdtypes.html#string-methods).<br>\n",
    "<br>\n",
    "<b>Exercise</b><br>\n",
    "Use the appropriate methods to make the following lines of code work."
   ]
  },
  {
   "cell_type": "code",
   "execution_count": 64,
   "id": "2f5b28e9",
   "metadata": {
    "scrolled": true
   },
   "outputs": [
    {
     "name": "stdout",
     "output_type": "stream",
     "text": [
      "3\n",
      "72\n",
      "78\n",
      "80\n",
      "True\n",
      "in computer programming,  a string is traditionally  a sequence of characters.  \n",
      "['In computer programming', '  a string is traditionally  a sequence of characters.  ']\n",
      "In computer programming, a string is traditionally a sequence of characters.\n",
      "In computer programming,  a string is   a sequence of characters.\n",
      "In computer programming,  a string is a sequence of characters.\n"
     ]
    }
   ],
   "source": [
    "string = \"In computer programming,  a string is traditionally  a sequence of characters.  \"\n",
    "\n",
    " \n",
    "print(string.index('c'))                             # index of the first 'c'\n",
    "print(string.rindex('c'))                            # index of the last 'c' (zie r{name} methods voor right-hand functions)\n",
    "print(len(string.rstrip()))                          # length of the string without trailing whitespaces\n",
    "print(len(string))                                   # length of the string to check the amount of whitespaces\n",
    "print(string.startswith(\"In\"))                       # whether the string starts with \"In\"\n",
    "print(string.lower())                                # small letters\n",
    "print(string.split(\",\"))                             # split the string by a comma\n",
    "print(\" \".join(string.split()))                      # Using the whitespace between to join all text\n",
    "print(string.replace(\"traditionally\",\"\").strip())    # Replacing traditionally with nothing \n",
    "print(string.replace(\" traditionally \",\"\").strip())  #Replacing traditionally including its whitspaces\n"
   ]
  },
  {
   "cell_type": "markdown",
   "id": "1f8c61a0",
   "metadata": {},
   "source": [
    "Formatting a string allows you to export or print data. For example, printing the string `Client name: %s` where `%s` is formatted to be the name of a client given as a string. Besides substituting strings at `%s`, other data types can also be formatted in to the string. See [here](https://docs.python.org/3/library/stdtypes.html#printf-style-string-formatting) for a list of all formatting conversions. This includes formatting/rounding numbers.<br>\n",
    "<br>\n",
    "A general way to format a string is given below. Note the `%d` for an integer. In case of a single argument, the `( )` are not nessecary."
   ]
  },
  {
   "cell_type": "code",
   "execution_count": 65,
   "id": "25c5a8f5",
   "metadata": {},
   "outputs": [
    {
     "name": "stdout",
     "output_type": "stream",
     "text": [
      "Client Obelix is 32 years old.\n"
     ]
    }
   ],
   "source": [
    "client_name = \"Obelix\"\n",
    "client_age = 32                                                   # [years]\n",
    "string = \"Client %s is %d years old.\" % (client_name, client_age) # the format is: string % (arguments)\n",
    "print(string)"
   ]
  },
  {
   "cell_type": "markdown",
   "id": "34099dbf",
   "metadata": {},
   "source": [
    "<b>Exercise</b><br>\n",
    "Use the appropriate format to make the following lines of code work."
   ]
  },
  {
   "cell_type": "code",
   "execution_count": 121,
   "id": "5813875c",
   "metadata": {},
   "outputs": [
    {
     "name": "stdout",
     "output_type": "stream",
     "text": [
      "2\n",
      "1.7\n",
      "1.73\n",
      "   1.73\n",
      "0001.73\n",
      "+1.73\n",
      "+001.73\n",
      "1.73e+00\n"
     ]
    }
   ],
   "source": [
    "value = 1.73456\n",
    "\n",
    "\n",
    "print(\"%.0f\" % value)                  # It does not work with d because than it leaves out all decimals in stead of rounding off\n",
    "print(\"%.1f\" % value)                  # 1.7 \n",
    "print(\"%.2f\" % value)                  # 1.73\n",
    "print(\"% 7.2f\" % value)                #Gives that the number should have a total lenght of 7, with 2 decimals\n",
    "print(\"%07.2f\" %value)                 # 0001.73  (see Flag '0')\n",
    "print(\"%+0.2f\" % value)                # +1.73    (see Flag '+')\n",
    "print(\"%+07.2f\" % value)               # +001.73\n",
    "print(\"%0.2e\" % value)                 # 1.73e+00 (exponential format)"
   ]
  },
  {
   "cell_type": "markdown",
   "id": "1d968f6c",
   "metadata": {},
   "source": [
    "<h1>3. Regular expressions</h1>"
   ]
  },
  {
   "cell_type": "markdown",
   "id": "cfcfc7b4",
   "metadata": {},
   "source": [
    "Regular expressions are used to find patterns in text, without exactly specifying each character. For example to find words, to find numbers that were formatted in a particular way, etc.<br>\n",
    "A single digit can for example be matched with `\\d`. That would match at 4 locations in the string `The width of the car is 2m, and the height is 1.65m.`.<br>\n",
    "Another example is that we can match a set of characters. This can be matched using `[xyz]`. That would match at 4 locations in the string `If x = 2y, than y = 6z.`.<br>\n",
    "At [Python Regular Expressions](https://docs.python.org/3/library/re.html) more information can be found on matching string patterns in Python. Using this information, make the following assignment.<br>\n",
    "<br>\n",
    "<b>Exercise</b><br>\n",
    "Consider the 12 lines in the code box below. You will have to find a pattern that:\n",
    "<ul>\n",
    "    <li>Matches the first 10 lines with a decimal number.</li>\n",
    "    <li>Does not match the integer in the 11th line.</li>\n",
    "    <li>Does not match the text in the 12th line.</li>\n",
    "</ul>\n",
    "<br>\n",
    "1. Before you read the documentation, write the pattern down in words under 'pattern in words:'<br>\n",
    "<br>\n",
    "<i>Tip: The lines to match have a general pattern of 3 elements (first this, than that, and finally that).</i><br>\n",
    "<br>\n",
    "\n",
    "Open [regex101.com](https://regex101.com/).<br>\n",
    "On the left-hand side, select the \"Python\" flavor.<br>\n",
    "Copy the 12 lines from the code box below in the \"TEST STRING\" box.<br>\n",
    "In the \"REGULAR EXPRESSION\" text box, test and write your pattern.<br>\n",
    "<br>\n",
    "2. Write the pattern down in code, regexp = ...<br>\n",
    "<br>\n",
    "<i>Tip: Some elements may be \"zero or more of X\", where X is some type.</i><br>\n",
    "<i>Tip: Some elements may be \"any of Y\", where Y is a set of cases it can be.</i>"
   ]
  },
  {
   "cell_type": "markdown",
   "id": "ceeb7d8b",
   "metadata": {},
   "source": [
    "    0001,2345\n",
    "    1,2345\n",
    "    1,23\n",
    "    ,2345\n",
    "    1,\n",
    "    001.2345\n",
    "    1.2345\n",
    "    1.23\n",
    "    .2345\n",
    "    1.\n",
    "    1\n",
    "    thisisnotanumber"
   ]
  },
  {
   "cell_type": "code",
   "execution_count": 109,
   "id": "1c7a8873",
   "metadata": {},
   "outputs": [
    {
     "name": "stdout",
     "output_type": "stream",
     "text": [
      "Match: 0001,2345\n",
      "Match: 1,2345\n",
      "Match: 1,23\n",
      "Match: ,2345\n",
      "Match: 1,\n",
      "Match: 001.2345\n",
      "Match: 1.2345\n",
      "Match: 1.23\n",
      "Match: .2345\n",
      "Match: 1.\n",
      "Match: 1\n",
      "No match: thisisnotanumber\n"
     ]
    }
   ],
   "source": [
    "import re\n",
    "\n",
    "# Het reguliere expressie patroon\n",
    "regexp = r'^\\d*(?:[.,]\\d*)?$'\n",
    "\n",
    "# De lijst met waarden om te matchen\n",
    "values = [\n",
    "    \"0001,2345\",\n",
    "    \"1,2345\",\n",
    "    \"1,23\",\n",
    "    \",2345\",\n",
    "    \"1,\",\n",
    "    \"001.2345\",\n",
    "    \"1.2345\",\n",
    "    \"1.23\",\n",
    "    \".2345\",\n",
    "    \"1.\",\n",
    "    \"1\",\n",
    "    \"thisisnotanumber\"\n",
    "]\n",
    "\n",
    "# Matchen van waarden tegen het patroon\n",
    "for value in values:\n",
    "    if re.match(regexp, value):\n",
    "        print(f\"Match: {value}\")\n",
    "    else:\n",
    "        print(f\"No match: {value}\")\n"
   ]
  },
  {
   "cell_type": "markdown",
   "id": "455be794",
   "metadata": {},
   "source": [
    "<b>pattern in words:</b><br>\n",
    "**First**, we start with the regular expression ^, indicating the match must begin at the beginning of the input string; **then**, within this regular expression, we have \\d*, matching zero or more digits, allowing for an optional integer part at the start of the input; and **finally**, the regular expression ends with $, signifying that the match must conclude at the end of the input string."
   ]
  },
  {
   "cell_type": "code",
   "execution_count": 107,
   "id": "1119587c",
   "metadata": {},
   "outputs": [],
   "source": [
    "regexp = r'^\\d*(?:[.,]\\d*)?$'"
   ]
  },
  {
   "cell_type": "markdown",
   "id": "05a02c1f",
   "metadata": {},
   "source": [
    "<h1>4. Counting characters</h1>"
   ]
  },
  {
   "cell_type": "markdown",
   "id": "66cb588f",
   "metadata": {},
   "source": [
    "<b>Exercise</b><br>\n",
    "Print all non-zero frequencies of each character from the alphabet in the text given in the code box.\n",
    "<ul>\n",
    "<li>Treat accented characters as normal characters.</li>\n",
    "<li>Combine uppercase and lowercase characters in a single count.</li>\n",
    "<li>Print in alphabetical order.</li>\n",
    "</ul>\n",
    "<i>Hint: Have one step where you prepare and filter some data, and a second step with a loop.<i><br>\n",
    "<i>Hint: sets have unique values, and lists are indexed and can thus be sorted (sort()).<i>"
   ]
  },
  {
   "cell_type": "code",
   "execution_count": 114,
   "id": "f40cc95e",
   "metadata": {},
   "outputs": [
    {
     "name": "stdout",
     "output_type": "stream",
     "text": [
      "a: 3\n",
      "c: 1\n",
      "d: 2\n",
      "e: 12\n",
      "f: 3\n",
      "g: 2\n",
      "h: 8\n",
      "i: 3\n",
      "j: 2\n",
      "l: 1\n",
      "m: 3\n",
      "n: 8\n",
      "o: 12\n",
      "p: 1\n",
      "r: 4\n",
      "s: 5\n",
      "t: 6\n",
      "u: 1\n",
      "v: 3\n",
      "y: 2\n"
     ]
    }
   ],
   "source": [
    "#Importeer unicode to \"Treat accented characters as normal characters.\"\n",
    "from unidecode import unidecode\n",
    "\n",
    "# De tekst\n",
    "text = \"For the movie The Theory of Everything (2014), Jóhann Jóhannsson composed the song A Model of the Universe\"\n",
    "\n",
    "# Stap 1: Voorbereiden en filteren van de data, inclusief behandeling van geaccentueerde tekens\n",
    "cleaned_text = ''.join(letter.lower() for letter in unidecode(text) if letter.isalpha())\n",
    "\n",
    "# Stap 2: Tellen van de frequentie van elk letter\n",
    "frequency_dict = {}\n",
    "for letter in cleaned_text:\n",
    "    if letter in frequency_dict:\n",
    "        frequency_dict[letter] += 1\n",
    "    else:\n",
    "        frequency_dict[letter] = 1\n",
    "\n",
    "# Stap 3: Afdrukken van de frequenties in alfabetische volgorde\n",
    "alphabetical_letters = sorted(frequency_dict.keys())\n",
    "for letter in alphabetical_letters:\n",
    "    if frequency_dict[letter] > 0:\n",
    "        print(f\"{letter}: {frequency_dict[letter]}\")"
   ]
  },
  {
   "cell_type": "markdown",
   "id": "f412c5d7",
   "metadata": {},
   "source": [
    "<h1>5. Good... afternoon?</h1>"
   ]
  },
  {
   "cell_type": "markdown",
   "id": "a7c49199",
   "metadata": {},
   "source": [
    "The code below generates a random time in the day. Suppose we want to present a user a welcoming message when the user opens a program at that time.<br>\n",
    "<br>\n",
    "<b>Exercise</b><br>\n",
    "<ul>\n",
    "    <li>Print a message with the (pseudo) format: Good {part of day}, the time is hh:mm</li>\n",
    "    <li>Parts of the day are night [0-5], morning [6-11], afternoon [12-17] or evening [18-23].</li>\n",
    "    <li>Hour or minute values below 10 should have a leading 0.</li>\n",
    "</ul>\n",
    "<i>Hint: you can use if-elif-else for the part of the day, but you can also have a fixed list of parts of the day and use clever indexing from the hour value.</i>"
   ]
  },
  {
   "cell_type": "code",
   "execution_count": 119,
   "id": "71646eb0",
   "metadata": {},
   "outputs": [
    {
     "name": "stdout",
     "output_type": "stream",
     "text": [
      "Good evening, the time is 22:54\n"
     ]
    }
   ],
   "source": [
    "import random\n",
    "\n",
    "# Generate random hour and minute\n",
    "h = random.randint(0, 23)  # hour of the day\n",
    "m = random.randint(0, 59)  # minute within the hour\n",
    "\n",
    "# Determine the part of the day\n",
    "if h >= 0 and h < 6:\n",
    "    part_of_day = \"night\"\n",
    "elif h >= 6 and h < 12:\n",
    "    part_of_day = \"morning\"\n",
    "elif h >= 12 and h < 18:\n",
    "    part_of_day = \"afternoon\"\n",
    "else:\n",
    "    part_of_day = \"evening\"\n",
    "\n",
    "# Check if hour and minute are below 10 and add a leading 0 if necessary\n",
    "hour_str = str(h).zfill(2)\n",
    "minute_str = str(m).zfill(2)\n",
    "\n",
    "# Print the welcome message\n",
    "print(f\"Good {part_of_day}, the time is {hour_str}:{minute_str}\")\n"
   ]
  }
 ],
 "metadata": {
  "kernelspec": {
   "display_name": "Python 3 (ipykernel)",
   "language": "python",
   "name": "python3"
  },
  "language_info": {
   "codemirror_mode": {
    "name": "ipython",
    "version": 3
   },
   "file_extension": ".py",
   "mimetype": "text/x-python",
   "name": "python",
   "nbconvert_exporter": "python",
   "pygments_lexer": "ipython3",
   "version": "3.11.4"
  }
 },
 "nbformat": 4,
 "nbformat_minor": 5
}
